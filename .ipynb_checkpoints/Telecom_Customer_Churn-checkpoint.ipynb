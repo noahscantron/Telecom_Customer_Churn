{
 "cells": [
  {
   "cell_type": "markdown",
   "metadata": {
    "toc": true
   },
   "source": [
    "<h1>Table of Contents<span class=\"tocSkip\"></span></h1>\n",
    "<div class=\"toc\"><ul class=\"toc-item\"><li><span><a href=\"#Import-Packages\" data-toc-modified-id=\"Import-Packages-1\"><span class=\"toc-item-num\">1&nbsp;&nbsp;</span>Import Packages</a></span></li><li><span><a href=\"#Data-Wrangling\" data-toc-modified-id=\"Data-Wrangling-2\"><span class=\"toc-item-num\">2&nbsp;&nbsp;</span>Data Wrangling</a></span><ul class=\"toc-item\"><li><span><a href=\"#Import-Data\" data-toc-modified-id=\"Import-Data-2.1\"><span class=\"toc-item-num\">2.1&nbsp;&nbsp;</span>Import Data</a></span></li><li><span><a href=\"#Data-Cleaning\" data-toc-modified-id=\"Data-Cleaning-2.2\"><span class=\"toc-item-num\">2.2&nbsp;&nbsp;</span>Data Cleaning</a></span><ul class=\"toc-item\"><li><span><a href=\"#Rename-Columns\" data-toc-modified-id=\"Rename-Columns-2.2.1\"><span class=\"toc-item-num\">2.2.1&nbsp;&nbsp;</span>Rename Columns</a></span></li><li><span><a href=\"#Convert-string-columns-to-numeric\" data-toc-modified-id=\"Convert-string-columns-to-numeric-2.2.2\"><span class=\"toc-item-num\">2.2.2&nbsp;&nbsp;</span>Convert string columns to numeric</a></span></li></ul></li></ul></li><li><span><a href=\"#Exploratory-Data-Analysis\" data-toc-modified-id=\"Exploratory-Data-Analysis-3\"><span class=\"toc-item-num\">3&nbsp;&nbsp;</span>Exploratory Data Analysis</a></span><ul class=\"toc-item\"><li><span><a href=\"#Non-Visual\" data-toc-modified-id=\"Non-Visual-3.1\"><span class=\"toc-item-num\">3.1&nbsp;&nbsp;</span>Non-Visual</a></span><ul class=\"toc-item\"><li><span><a href=\"#General\" data-toc-modified-id=\"General-3.1.1\"><span class=\"toc-item-num\">3.1.1&nbsp;&nbsp;</span>General</a></span></li><li><span><a href=\"#Count-of-Unique-Numeric-Values\" data-toc-modified-id=\"Count-of-Unique-Numeric-Values-3.1.2\"><span class=\"toc-item-num\">3.1.2&nbsp;&nbsp;</span>Count of Unique Numeric Values</a></span></li><li><span><a href=\"#Unique-Non-Numerical-Values\" data-toc-modified-id=\"Unique-Non-Numerical-Values-3.1.3\"><span class=\"toc-item-num\">3.1.3&nbsp;&nbsp;</span>Unique Non-Numerical Values</a></span></li></ul></li><li><span><a href=\"#Visualizations\" data-toc-modified-id=\"Visualizations-3.2\"><span class=\"toc-item-num\">3.2&nbsp;&nbsp;</span>Visualizations</a></span><ul class=\"toc-item\"><li><span><a href=\"#Numeric-Features\" data-toc-modified-id=\"Numeric-Features-3.2.1\"><span class=\"toc-item-num\">3.2.1&nbsp;&nbsp;</span>Numeric Features</a></span><ul class=\"toc-item\"><li><span><a href=\"#Tenure\" data-toc-modified-id=\"Tenure-3.2.1.1\"><span class=\"toc-item-num\">3.2.1.1&nbsp;&nbsp;</span>Tenure</a></span></li><li><span><a href=\"#Monthly-Charges\" data-toc-modified-id=\"Monthly-Charges-3.2.1.2\"><span class=\"toc-item-num\">3.2.1.2&nbsp;&nbsp;</span>Monthly Charges</a></span></li><li><span><a href=\"#Total-Charges\" data-toc-modified-id=\"Total-Charges-3.2.1.3\"><span class=\"toc-item-num\">3.2.1.3&nbsp;&nbsp;</span>Total Charges</a></span></li></ul></li><li><span><a href=\"#Non-Numeric-Features\" data-toc-modified-id=\"Non-Numeric-Features-3.2.2\"><span class=\"toc-item-num\">3.2.2&nbsp;&nbsp;</span>Non-Numeric Features</a></span></li></ul></li><li><span><a href=\"#Feature-Relationships\" data-toc-modified-id=\"Feature-Relationships-3.3\"><span class=\"toc-item-num\">3.3&nbsp;&nbsp;</span>Feature Relationships</a></span><ul class=\"toc-item\"><li><span><a href=\"#Premature-Preprocessing\" data-toc-modified-id=\"Premature-Preprocessing-3.3.1\"><span class=\"toc-item-num\">3.3.1&nbsp;&nbsp;</span>Premature Preprocessing</a></span><ul class=\"toc-item\"><li><span><a href=\"#Remove-redundant-information\" data-toc-modified-id=\"Remove-redundant-information-3.3.1.1\"><span class=\"toc-item-num\">3.3.1.1&nbsp;&nbsp;</span>Remove redundant information</a></span></li></ul></li><li><span><a href=\"#Correlation-Heatmaps\" data-toc-modified-id=\"Correlation-Heatmaps-3.3.2\"><span class=\"toc-item-num\">3.3.2&nbsp;&nbsp;</span>Correlation Heatmaps</a></span><ul class=\"toc-item\"><li><span><a href=\"#All-Features\" data-toc-modified-id=\"All-Features-3.3.2.1\"><span class=\"toc-item-num\">3.3.2.1&nbsp;&nbsp;</span>All Features</a></span></li><li><span><a href=\"#Target-Feature\" data-toc-modified-id=\"Target-Feature-3.3.2.2\"><span class=\"toc-item-num\">3.3.2.2&nbsp;&nbsp;</span>Target Feature</a></span></li></ul></li><li><span><a href=\"#Target-Feature-vs.-High-Correlation-Features\" data-toc-modified-id=\"Target-Feature-vs.-High-Correlation-Features-3.3.3\"><span class=\"toc-item-num\">3.3.3&nbsp;&nbsp;</span>Target Feature vs. High Correlation Features</a></span></li></ul></li></ul></li></ul></div>"
   ]
  },
  {
   "cell_type": "markdown",
   "metadata": {},
   "source": [
    "**Note: Having nbextension \"Table of Contents\" *enabled* is very helpful for knowing where you are in the flow of this notebook**"
   ]
  },
  {
   "cell_type": "markdown",
   "metadata": {},
   "source": [
    "# Import Packages"
   ]
  },
  {
   "cell_type": "code",
   "execution_count": 1,
   "metadata": {},
   "outputs": [],
   "source": [
    "import numpy as np\n",
    "import pandas as pd\n",
    "import matplotlib.pyplot as plt\n",
    "import seaborn as sns\n",
    "sns.set()"
   ]
  },
  {
   "cell_type": "markdown",
   "metadata": {},
   "source": [
    "# Data Wrangling"
   ]
  },
  {
   "cell_type": "markdown",
   "metadata": {},
   "source": [
    "## Import Data"
   ]
  },
  {
   "cell_type": "code",
   "execution_count": 2,
   "metadata": {},
   "outputs": [],
   "source": [
    "data = pd.read_csv('Data/Telecom_Customer_Churn.csv')"
   ]
  },
  {
   "cell_type": "markdown",
   "metadata": {},
   "source": [
    "## Data Cleaning"
   ]
  },
  {
   "cell_type": "code",
   "execution_count": 3,
   "metadata": {},
   "outputs": [
    {
     "data": {
      "text/html": [
       "<div>\n",
       "<style scoped>\n",
       "    .dataframe tbody tr th:only-of-type {\n",
       "        vertical-align: middle;\n",
       "    }\n",
       "\n",
       "    .dataframe tbody tr th {\n",
       "        vertical-align: top;\n",
       "    }\n",
       "\n",
       "    .dataframe thead th {\n",
       "        text-align: right;\n",
       "    }\n",
       "</style>\n",
       "<table border=\"1\" class=\"dataframe\">\n",
       "  <thead>\n",
       "    <tr style=\"text-align: right;\">\n",
       "      <th></th>\n",
       "      <th>customerID</th>\n",
       "      <th>gender</th>\n",
       "      <th>SeniorCitizen</th>\n",
       "      <th>Partner</th>\n",
       "      <th>Dependents</th>\n",
       "      <th>tenure</th>\n",
       "      <th>PhoneService</th>\n",
       "      <th>MultipleLines</th>\n",
       "      <th>InternetService</th>\n",
       "      <th>OnlineSecurity</th>\n",
       "      <th>...</th>\n",
       "      <th>DeviceProtection</th>\n",
       "      <th>TechSupport</th>\n",
       "      <th>StreamingTV</th>\n",
       "      <th>StreamingMovies</th>\n",
       "      <th>Contract</th>\n",
       "      <th>PaperlessBilling</th>\n",
       "      <th>PaymentMethod</th>\n",
       "      <th>MonthlyCharges</th>\n",
       "      <th>TotalCharges</th>\n",
       "      <th>Churn</th>\n",
       "    </tr>\n",
       "  </thead>\n",
       "  <tbody>\n",
       "    <tr>\n",
       "      <th>0</th>\n",
       "      <td>7590-VHVEG</td>\n",
       "      <td>Female</td>\n",
       "      <td>0</td>\n",
       "      <td>Yes</td>\n",
       "      <td>No</td>\n",
       "      <td>1</td>\n",
       "      <td>No</td>\n",
       "      <td>No phone service</td>\n",
       "      <td>DSL</td>\n",
       "      <td>No</td>\n",
       "      <td>...</td>\n",
       "      <td>No</td>\n",
       "      <td>No</td>\n",
       "      <td>No</td>\n",
       "      <td>No</td>\n",
       "      <td>Month-to-month</td>\n",
       "      <td>Yes</td>\n",
       "      <td>Electronic check</td>\n",
       "      <td>29.85</td>\n",
       "      <td>29.85</td>\n",
       "      <td>No</td>\n",
       "    </tr>\n",
       "    <tr>\n",
       "      <th>1</th>\n",
       "      <td>5575-GNVDE</td>\n",
       "      <td>Male</td>\n",
       "      <td>0</td>\n",
       "      <td>No</td>\n",
       "      <td>No</td>\n",
       "      <td>34</td>\n",
       "      <td>Yes</td>\n",
       "      <td>No</td>\n",
       "      <td>DSL</td>\n",
       "      <td>Yes</td>\n",
       "      <td>...</td>\n",
       "      <td>Yes</td>\n",
       "      <td>No</td>\n",
       "      <td>No</td>\n",
       "      <td>No</td>\n",
       "      <td>One year</td>\n",
       "      <td>No</td>\n",
       "      <td>Mailed check</td>\n",
       "      <td>56.95</td>\n",
       "      <td>1889.5</td>\n",
       "      <td>No</td>\n",
       "    </tr>\n",
       "    <tr>\n",
       "      <th>2</th>\n",
       "      <td>3668-QPYBK</td>\n",
       "      <td>Male</td>\n",
       "      <td>0</td>\n",
       "      <td>No</td>\n",
       "      <td>No</td>\n",
       "      <td>2</td>\n",
       "      <td>Yes</td>\n",
       "      <td>No</td>\n",
       "      <td>DSL</td>\n",
       "      <td>Yes</td>\n",
       "      <td>...</td>\n",
       "      <td>No</td>\n",
       "      <td>No</td>\n",
       "      <td>No</td>\n",
       "      <td>No</td>\n",
       "      <td>Month-to-month</td>\n",
       "      <td>Yes</td>\n",
       "      <td>Mailed check</td>\n",
       "      <td>53.85</td>\n",
       "      <td>108.15</td>\n",
       "      <td>Yes</td>\n",
       "    </tr>\n",
       "    <tr>\n",
       "      <th>3</th>\n",
       "      <td>7795-CFOCW</td>\n",
       "      <td>Male</td>\n",
       "      <td>0</td>\n",
       "      <td>No</td>\n",
       "      <td>No</td>\n",
       "      <td>45</td>\n",
       "      <td>No</td>\n",
       "      <td>No phone service</td>\n",
       "      <td>DSL</td>\n",
       "      <td>Yes</td>\n",
       "      <td>...</td>\n",
       "      <td>Yes</td>\n",
       "      <td>Yes</td>\n",
       "      <td>No</td>\n",
       "      <td>No</td>\n",
       "      <td>One year</td>\n",
       "      <td>No</td>\n",
       "      <td>Bank transfer (automatic)</td>\n",
       "      <td>42.30</td>\n",
       "      <td>1840.75</td>\n",
       "      <td>No</td>\n",
       "    </tr>\n",
       "    <tr>\n",
       "      <th>4</th>\n",
       "      <td>9237-HQITU</td>\n",
       "      <td>Female</td>\n",
       "      <td>0</td>\n",
       "      <td>No</td>\n",
       "      <td>No</td>\n",
       "      <td>2</td>\n",
       "      <td>Yes</td>\n",
       "      <td>No</td>\n",
       "      <td>Fiber optic</td>\n",
       "      <td>No</td>\n",
       "      <td>...</td>\n",
       "      <td>No</td>\n",
       "      <td>No</td>\n",
       "      <td>No</td>\n",
       "      <td>No</td>\n",
       "      <td>Month-to-month</td>\n",
       "      <td>Yes</td>\n",
       "      <td>Electronic check</td>\n",
       "      <td>70.70</td>\n",
       "      <td>151.65</td>\n",
       "      <td>Yes</td>\n",
       "    </tr>\n",
       "  </tbody>\n",
       "</table>\n",
       "<p>5 rows × 21 columns</p>\n",
       "</div>"
      ],
      "text/plain": [
       "   customerID  gender  SeniorCitizen Partner Dependents  tenure PhoneService  \\\n",
       "0  7590-VHVEG  Female              0     Yes         No       1           No   \n",
       "1  5575-GNVDE    Male              0      No         No      34          Yes   \n",
       "2  3668-QPYBK    Male              0      No         No       2          Yes   \n",
       "3  7795-CFOCW    Male              0      No         No      45           No   \n",
       "4  9237-HQITU  Female              0      No         No       2          Yes   \n",
       "\n",
       "      MultipleLines InternetService OnlineSecurity  ... DeviceProtection  \\\n",
       "0  No phone service             DSL             No  ...               No   \n",
       "1                No             DSL            Yes  ...              Yes   \n",
       "2                No             DSL            Yes  ...               No   \n",
       "3  No phone service             DSL            Yes  ...              Yes   \n",
       "4                No     Fiber optic             No  ...               No   \n",
       "\n",
       "  TechSupport StreamingTV StreamingMovies        Contract PaperlessBilling  \\\n",
       "0          No          No              No  Month-to-month              Yes   \n",
       "1          No          No              No        One year               No   \n",
       "2          No          No              No  Month-to-month              Yes   \n",
       "3         Yes          No              No        One year               No   \n",
       "4          No          No              No  Month-to-month              Yes   \n",
       "\n",
       "               PaymentMethod MonthlyCharges  TotalCharges Churn  \n",
       "0           Electronic check          29.85         29.85    No  \n",
       "1               Mailed check          56.95        1889.5    No  \n",
       "2               Mailed check          53.85        108.15   Yes  \n",
       "3  Bank transfer (automatic)          42.30       1840.75    No  \n",
       "4           Electronic check          70.70        151.65   Yes  \n",
       "\n",
       "[5 rows x 21 columns]"
      ]
     },
     "execution_count": 3,
     "metadata": {},
     "output_type": "execute_result"
    }
   ],
   "source": [
    "data.head()"
   ]
  },
  {
   "cell_type": "code",
   "execution_count": 4,
   "metadata": {},
   "outputs": [
    {
     "name": "stdout",
     "output_type": "stream",
     "text": [
      "<class 'pandas.core.frame.DataFrame'>\n",
      "RangeIndex: 7043 entries, 0 to 7042\n",
      "Data columns (total 21 columns):\n",
      " #   Column            Non-Null Count  Dtype  \n",
      "---  ------            --------------  -----  \n",
      " 0   customerID        7043 non-null   object \n",
      " 1   gender            7043 non-null   object \n",
      " 2   SeniorCitizen     7043 non-null   int64  \n",
      " 3   Partner           7043 non-null   object \n",
      " 4   Dependents        7043 non-null   object \n",
      " 5   tenure            7043 non-null   int64  \n",
      " 6   PhoneService      7043 non-null   object \n",
      " 7   MultipleLines     7043 non-null   object \n",
      " 8   InternetService   7043 non-null   object \n",
      " 9   OnlineSecurity    7043 non-null   object \n",
      " 10  OnlineBackup      7043 non-null   object \n",
      " 11  DeviceProtection  7043 non-null   object \n",
      " 12  TechSupport       7043 non-null   object \n",
      " 13  StreamingTV       7043 non-null   object \n",
      " 14  StreamingMovies   7043 non-null   object \n",
      " 15  Contract          7043 non-null   object \n",
      " 16  PaperlessBilling  7043 non-null   object \n",
      " 17  PaymentMethod     7043 non-null   object \n",
      " 18  MonthlyCharges    7043 non-null   float64\n",
      " 19  TotalCharges      7043 non-null   object \n",
      " 20  Churn             7043 non-null   object \n",
      "dtypes: float64(1), int64(2), object(18)\n",
      "memory usage: 1.1+ MB\n"
     ]
    }
   ],
   "source": [
    "data.info()"
   ]
  },
  {
   "cell_type": "markdown",
   "metadata": {},
   "source": [
    "### Rename Columns"
   ]
  },
  {
   "cell_type": "code",
   "execution_count": 5,
   "metadata": {},
   "outputs": [],
   "source": [
    "# Capitalize columns that aren't capitalized\n",
    "data.rename(columns={'customerID':'CustomerID','gender':'Gender','tenure':'Tenure'}, inplace=True)"
   ]
  },
  {
   "cell_type": "markdown",
   "metadata": {},
   "source": [
    "### Convert string columns to numeric"
   ]
  },
  {
   "cell_type": "markdown",
   "metadata": {},
   "source": [
    "**Total Charges**"
   ]
  },
  {
   "cell_type": "code",
   "execution_count": 6,
   "metadata": {
    "scrolled": true
   },
   "outputs": [
    {
     "data": {
      "text/plain": [
       "488      \n",
       "753      \n",
       "936      \n",
       "1082     \n",
       "1340     \n",
       "3331     \n",
       "3826     \n",
       "4380     \n",
       "5218     \n",
       "6670     \n",
       "6754     \n",
       "Name: TotalCharges, dtype: object"
      ]
     },
     "execution_count": 6,
     "metadata": {},
     "output_type": "execute_result"
    }
   ],
   "source": [
    "# View the rows who keep the column from converting to numeric's values\n",
    "data['TotalCharges'][pd.to_numeric(data['TotalCharges'], errors='coerce').isna()]"
   ]
  },
  {
   "cell_type": "markdown",
   "metadata": {},
   "source": [
    "They're all spaces! Let's just convert them to 0s"
   ]
  },
  {
   "cell_type": "code",
   "execution_count": 7,
   "metadata": {},
   "outputs": [],
   "source": [
    "data['TotalCharges'] = pd.to_numeric(data['TotalCharges'], errors='coerce').fillna(0)"
   ]
  },
  {
   "cell_type": "code",
   "execution_count": 8,
   "metadata": {},
   "outputs": [
    {
     "data": {
      "text/plain": [
       "dtype('float64')"
      ]
     },
     "execution_count": 8,
     "metadata": {},
     "output_type": "execute_result"
    }
   ],
   "source": [
    "data['TotalCharges'].dtype"
   ]
  },
  {
   "cell_type": "markdown",
   "metadata": {},
   "source": [
    "**Churn**"
   ]
  },
  {
   "cell_type": "code",
   "execution_count": 9,
   "metadata": {},
   "outputs": [],
   "source": [
    "# Convert Yes to 1 and No to 0, converting Churn to int type\n",
    "data['Churn'] = data.Churn.map({'Yes':1,'No':0})"
   ]
  },
  {
   "cell_type": "markdown",
   "metadata": {
    "tags": []
   },
   "source": [
    "# Exploratory Data Analysis"
   ]
  },
  {
   "cell_type": "markdown",
   "metadata": {},
   "source": [
    "## Non-Visual"
   ]
  },
  {
   "cell_type": "markdown",
   "metadata": {},
   "source": [
    "### General"
   ]
  },
  {
   "cell_type": "code",
   "execution_count": null,
   "metadata": {},
   "outputs": [],
   "source": [
    "data.head()"
   ]
  },
  {
   "cell_type": "code",
   "execution_count": null,
   "metadata": {
    "scrolled": true
   },
   "outputs": [],
   "source": [
    "# Statistically describe numerical features\n",
    "data.describe()"
   ]
  },
  {
   "cell_type": "markdown",
   "metadata": {},
   "source": [
    "### Unique Values"
   ]
  },
  {
   "cell_type": "markdown",
   "metadata": {},
   "source": [
    "#### Count of Unique Values"
   ]
  },
  {
   "cell_type": "code",
   "execution_count": null,
   "metadata": {},
   "outputs": [],
   "source": [
    "data.nunique()"
   ]
  },
  {
   "cell_type": "markdown",
   "metadata": {},
   "source": [
    "#### Unique Categorical Values"
   ]
  },
  {
   "cell_type": "markdown",
   "metadata": {},
   "source": [
    "Find and save all unique non-numerical values to a DataFrame"
   ]
  },
  {
   "cell_type": "code",
   "execution_count": null,
   "metadata": {},
   "outputs": [],
   "source": [
    "def feature_unique_values_to_df(df):\n",
    "    '''Receive a DataFrame, find columns with 10 or less unique values, and return a DataFrame that shows the unique values'''\n",
    "    \n",
    "    from collections import defaultdict\n",
    "    \n",
    "    # Initiate an empty default-dictionary\n",
    "    unique_values = defaultdict(list)\n",
    "\n",
    "    # Find the columns with fewer than 10 unique values\n",
    "    categories = df.loc[:, df.nunique() <= 10].columns\n",
    "\n",
    "    # Save each of those column's unique values in a dictionary\n",
    "    max_unique = 0\n",
    "    for cat in categories:\n",
    "        unique = df[cat].unique().tolist()\n",
    "        len_unique = len(unique)\n",
    "        unique_values[cat] = unique\n",
    "        max_unique = max(max_unique, len_unique)\n",
    "\n",
    "    # Fill dictionary values with - to match the length of the column with the most unique features\n",
    "    for key, val in unique_values.items():\n",
    "        if len(val) < max_unique:\n",
    "            diff = max_unique - len(val)\n",
    "            unique_values[key].extend(['-'] * diff)\n",
    "\n",
    "    # Convert the unique values dictionary to a DataFrame and return it\n",
    "    return pd.DataFrame(unique_values).T"
   ]
  },
  {
   "cell_type": "code",
   "execution_count": null,
   "metadata": {},
   "outputs": [],
   "source": [
    "# Show the unique values per feature\n",
    "unique_values = feature_unique_values_to_df(data)\n",
    "\n",
    "unique_values"
   ]
  },
  {
   "cell_type": "markdown",
   "metadata": {},
   "source": [
    "## Univariate"
   ]
  },
  {
   "cell_type": "markdown",
   "metadata": {},
   "source": [
    "### Numeric Features"
   ]
  },
  {
   "cell_type": "code",
   "execution_count": null,
   "metadata": {},
   "outputs": [],
   "source": [
    "def plot_numeric_feature(feature_data, label_name):\n",
    "    '''Plot a given feature using a ECDF and histogram on the same plot.\n",
    "    Label name is the y-label for the boxplot and x-label for the histogram'''\n",
    "    \n",
    "    # Set plot data\n",
    "    plot_data = feature_data\n",
    "\n",
    "    # Create subplots\n",
    "    fig, ax = plt.subplots(1, 2, figsize=(15,6))\n",
    "\n",
    "    # First plot\n",
    "    sns.ecdfplot(data=plot_data, stat='count', ax=ax[0])\n",
    "    ax[0].set_title('ECDF')\n",
    "    ax[0].set_xlabel(label_name)\n",
    "\n",
    "    # Second plot\n",
    "    sns.histplot(x=plot_data, ax=ax[1])\n",
    "    ax[1].set_title('Histogram')\n",
    "    ax[1].set_xlabel(label_name)\n",
    "    \n",
    "    fig.tight_layout();"
   ]
  },
  {
   "cell_type": "markdown",
   "metadata": {},
   "source": [
    "#### Tenure"
   ]
  },
  {
   "cell_type": "code",
   "execution_count": null,
   "metadata": {},
   "outputs": [],
   "source": [
    "plot_numeric_feature(data['Tenure'], 'Tenure in Years')"
   ]
  },
  {
   "cell_type": "markdown",
   "metadata": {},
   "source": [
    "#### Monthly Charges"
   ]
  },
  {
   "cell_type": "code",
   "execution_count": null,
   "metadata": {},
   "outputs": [],
   "source": [
    "plot_numeric_feature(data['MonthlyCharges'], 'Monthy Charges ($)')"
   ]
  },
  {
   "cell_type": "markdown",
   "metadata": {},
   "source": [
    "#### Total Charges"
   ]
  },
  {
   "cell_type": "code",
   "execution_count": null,
   "metadata": {},
   "outputs": [],
   "source": [
    "plot_numeric_feature(data['TotalCharges'], 'Total Charges ($)')"
   ]
  },
  {
   "cell_type": "markdown",
   "metadata": {},
   "source": [
    "### Non-Numeric Features"
   ]
  },
  {
   "cell_type": "code",
   "execution_count": null,
   "metadata": {},
   "outputs": [],
   "source": [
    "def subplot_categorical_features(data, columns=4, exclude_features=False, figsize=None):\n",
    "    '''\n",
    "    \n",
    "    Plot all categorical features as barplots on one Matplotlib subplot.\n",
    "    \n",
    "    Parameters\n",
    "    ----------\n",
    "    \n",
    "    data : A Pandas DataFrame.\n",
    "    \n",
    "    columns : An integer for the number of columns in the plot.\n",
    "    \n",
    "    exclude_features : Iterable which contains the features to not use, and figsize to set the figsize of the plot.\n",
    "    \n",
    "    figsize : Iterable with two values which each represent the desired length and width of the plot.\n",
    "    \n",
    "    '''\n",
    "    from math import ceil\n",
    "    \n",
    "    # Create a list for each feature of dtype \"object\" in data\n",
    "    if exclude_features:\n",
    "        categoricals = [col for col, dtype in zip(data.columns, data.dtypes) if dtype == 'object' and col not in (exclude_features)]\n",
    "    else:\n",
    "        categoricals = [col for col, dtype in zip(data.columns, data.dtypes) if dtype == 'object']\n",
    "    \n",
    "    # Store the number of features in data\n",
    "    num_feat = len(categoricals)\n",
    "    \n",
    "    # Calculate and store number of necessary rows (with 4 columns) based on number of categorical columns\n",
    "    row_num = ceil(num_feat/columns)\n",
    "    \n",
    "    # If no figsize is passed, set an appropriate figsize\n",
    "    if not figsize:\n",
    "        figsize = (16, row_num * 3)\n",
    "    \n",
    "    # Create a Matplotlib subplot object with the appropriate number of rows and columns\n",
    "    fig, ax = plt.subplots(row_num, columns, figsize=figsize)\n",
    "\n",
    "    # Plot each column\n",
    "    for i, feature in enumerate(categoricals):\n",
    "        sns.countplot(y=data[feature], ax=ax[i//columns,i%columns])\n",
    "        ax[i//columns,i%columns].set_title(feature)\n",
    "\n",
    "    # Adjust and show the plot\n",
    "    plt.tight_layout()\n",
    "    plt.show()"
   ]
  },
  {
   "cell_type": "code",
   "execution_count": null,
   "metadata": {},
   "outputs": [],
   "source": [
    "subplot_categorical_features(data, columns=4, exclude_features='CustomerID')"
   ]
  },
  {
   "cell_type": "markdown",
   "metadata": {},
   "source": [
    "## Relationships"
   ]
  },
  {
   "cell_type": "markdown",
   "metadata": {},
   "source": [
    "### Premature Preprocessing"
   ]
  },
  {
   "cell_type": "code",
   "execution_count": null,
   "metadata": {},
   "outputs": [],
   "source": [
    "# Get dummies for categorical features\n",
    "dummies = pd.get_dummies(data.drop(['CustomerID','Tenure','MonthlyCharges','TotalCharges'], axis=1), drop_first=False)\n",
    "\n",
    "# Create a new DataFrame that includes the dummy features\n",
    "data_dummies = data[['CustomerID','Tenure','MonthlyCharges','TotalCharges']].join(dummies)"
   ]
  },
  {
   "cell_type": "markdown",
   "metadata": {},
   "source": [
    "#### Remove redundant information"
   ]
  },
  {
   "cell_type": "markdown",
   "metadata": {},
   "source": [
    "Here I'll remove newly created dummy features which each contain the same information. Only one of these columns is necessary."
   ]
  },
  {
   "cell_type": "code",
   "execution_count": null,
   "metadata": {},
   "outputs": [],
   "source": [
    "from re import search"
   ]
  },
  {
   "cell_type": "code",
   "execution_count": null,
   "metadata": {},
   "outputs": [],
   "source": [
    "# Find and save columns which each represent no internet service\n",
    "drop_cols = [col for col in data_dummies.columns if search('No internet service', col)]\n",
    "\n",
    "# Remove those columns\n",
    "data_dummies.drop(drop_cols, axis=1, inplace=True)"
   ]
  },
  {
   "cell_type": "markdown",
   "metadata": {},
   "source": [
    "### Correlation Heatmaps"
   ]
  },
  {
   "cell_type": "markdown",
   "metadata": {},
   "source": [
    "#### All Features"
   ]
  },
  {
   "cell_type": "code",
   "execution_count": null,
   "metadata": {},
   "outputs": [],
   "source": [
    "# Define a function to generate a features correlations heatmap\n",
    "def gen_corr_heatmap(dataframe, title=None, mask=False, annot=False, save=False):\n",
    "    plt.figure(figsize=(10, 8))\n",
    "    sns.set(font_scale=1)\n",
    "\n",
    "    if mask == True:\n",
    "        mask = np.zeros_like(dataframe.corr())\n",
    "        mask[np.triu_indices_from(mask)] = True\n",
    "\n",
    "    with sns.axes_style('white'):\n",
    "        sns.heatmap(dataframe.corr(), vmin=-1, vmax=1,\n",
    "                    mask=mask, center=0, annot=annot, cmap='bwr')\n",
    "\n",
    "    if title:\n",
    "        plt.title(f'\\n{title}\\n', fontsize=18)\n",
    "\n",
    "    if save:\n",
    "        filepath = title + '.png'\n",
    "        save_and_show_plot(filepath)"
   ]
  },
  {
   "cell_type": "code",
   "execution_count": null,
   "metadata": {},
   "outputs": [],
   "source": [
    "gen_corr_heatmap(data_dummies, 'Feature Correlations')"
   ]
  },
  {
   "cell_type": "markdown",
   "metadata": {},
   "source": [
    "#### Churn"
   ]
  },
  {
   "cell_type": "code",
   "execution_count": null,
   "metadata": {},
   "outputs": [],
   "source": [
    "# Define a function to generate a correlation heatmap between the target feature and other features\n",
    "def gen_corr_to_target(dataframe, target, title=None, annot=False, save=None):\n",
    "    plt.figure(figsize=(5, 10))\n",
    "    sns.set(font_scale=1)\n",
    "\n",
    "    sns.heatmap(dataframe.corr()[[target]].sort_values(target, ascending=False)[1:], vmin=-1, vmax=1,\n",
    "                center=0, annot=annot, cmap='bwr')\n",
    "\n",
    "    if title:\n",
    "        plt.title(f'\\n{title}\\n', fontsize=18)\n",
    "        \n",
    "    if save:\n",
    "        filepath = title + '.png'\n",
    "        save_and_show_plot(filepath)"
   ]
  },
  {
   "cell_type": "code",
   "execution_count": null,
   "metadata": {},
   "outputs": [],
   "source": [
    "gen_corr_to_target(data_dummies, 'Churn', 'Target Feature Correlations', annot=True)"
   ]
  },
  {
   "cell_type": "markdown",
   "metadata": {},
   "source": [
    "### Churn Relationships"
   ]
  },
  {
   "cell_type": "code",
   "execution_count": null,
   "metadata": {},
   "outputs": [],
   "source": [
    "# Save the highly correlating features in a list for future use\n",
    "high_corr_features = ['Contract','OnlineSecurity','TechSupport','InternetService','PaymentMethod','OnlineBackup','DeviceProtection']"
   ]
  },
  {
   "cell_type": "code",
   "execution_count": null,
   "metadata": {},
   "outputs": [],
   "source": [
    "# Plot each of the highly correlating features as barplots, divided by who churned and who didn't (0/1) and also by their own categories\n",
    "for feature in high_corr_features:\n",
    "    plt.figure(figsize=(12,4))\n",
    "    sns.countplot(data=data, x='Churn', hue=feature)\n",
    "    plt.title(feature)\n",
    "    plt.show()"
   ]
  },
  {
   "cell_type": "markdown",
   "metadata": {},
   "source": [
    "### Who is likely to churn?"
   ]
  },
  {
   "cell_type": "markdown",
   "metadata": {},
   "source": [
    "Here I focus only on features which highly correlate with Churn; there are many relationships that could have been guessed. I'll call out the groups who churned the most within their group.\n",
    "\n",
    " - Contract: Month-to-month\n",
    " - Online-Security: No\n",
    " - Tech-Support: No\n",
    " - Internet Service: Fiber optic (a surprise to me!)\n",
    " - Payment Method: Electronic check\n",
    " - Online Backup: No\n",
    " - Device Protection: No\n",
    " \n",
    " With our surface level understanding thus far, it seems that customers who don't have premium products are more likely to churn. That is, minus those who have fiber optic, which I assume is a premium product."
   ]
  },
  {
   "cell_type": "code",
   "execution_count": null,
   "metadata": {},
   "outputs": [],
   "source": [
    "# Here I create a dictionary of the group within each feature who most contributes to churn\n",
    "likely_to_churn = {'Contract':'Month-to-month', 'OnlineSecurity': 'No', 'TechSupport': 'No', 'InternetService': 'Fiber optic', 'PaymentMethod': 'Electronic check', 'OnlineBackup': 'No', 'DeviceProtection': 'No'}"
   ]
  },
  {
   "cell_type": "code",
   "execution_count": null,
   "metadata": {
    "tags": []
   },
   "outputs": [],
   "source": [
    "plt.figure(figsize=(12,6))\n",
    "sns.scatterplot(data=data.groupby('Tenure')['Churn'].mean());"
   ]
  },
  {
   "cell_type": "markdown",
   "metadata": {},
   "source": [
    "### Segmentation"
   ]
  },
  {
   "cell_type": "markdown",
   "metadata": {},
   "source": [
    "I'll be using K-Means to segment"
   ]
  },
  {
   "cell_type": "code",
   "execution_count": null,
   "metadata": {},
   "outputs": [],
   "source": [
    "# Import relevant segmentation packages\n",
    "from sklearn.cluster import KMeans"
   ]
  },
  {
   "cell_type": "markdown",
   "metadata": {},
   "source": [
    "#### Elbow Method"
   ]
  },
  {
   "cell_type": "markdown",
   "metadata": {},
   "source": [
    "Using the elbow method to visually understand the information gained by adding another cluster, I'll choose an appropriate number of clusters"
   ]
  },
  {
   "cell_type": "code",
   "execution_count": null,
   "metadata": {},
   "outputs": [],
   "source": [
    "def elbow_method(df, feature_list):\n",
    "    '''Accept a DataFrame and list of features from that DataFrame to run and plot the K-Means elbow method'''\n",
    "    \n",
    "    for feature in feature_list:\n",
    "        ssd = {}\n",
    "        for i in range(2,10):\n",
    "            kmeans = KMeans(n_clusters=i).fit(df[[feature]])\n",
    "            ssd[i] = kmeans.inertia_\n",
    "\n",
    "        plt.figure(figsize=(10,4))\n",
    "        plt.plot(list(ssd.keys()), list(ssd.values()))\n",
    "        plt.xlabel('Number of Clusters')\n",
    "        plt.ylabel('SSD')\n",
    "        plt.title(f'{feature}')\n",
    "        plt.show()"
   ]
  },
  {
   "cell_type": "code",
   "execution_count": null,
   "metadata": {},
   "outputs": [],
   "source": [
    "elbow_method(data, ['Tenure','MonthlyCharges','TotalCharges'])"
   ]
  },
  {
   "cell_type": "markdown",
   "metadata": {},
   "source": [
    "It seems that 4 segments is appropriate for each of these features"
   ]
  },
  {
   "cell_type": "markdown",
   "metadata": {},
   "source": [
    "#### Tenure"
   ]
  },
  {
   "cell_type": "code",
   "execution_count": 35,
   "metadata": {},
   "outputs": [],
   "source": [
    "kmeans = KMeans(n_clusters=3, random_state=0)\n",
    "kmeans.fit(data[['Tenure']])\n",
    "data['Tenure_Cluster'] = kmeans.labels_"
   ]
  },
  {
   "cell_type": "code",
   "execution_count": 36,
   "metadata": {},
   "outputs": [
    {
     "data": {
      "text/html": [
       "<div>\n",
       "<style scoped>\n",
       "    .dataframe tbody tr th:only-of-type {\n",
       "        vertical-align: middle;\n",
       "    }\n",
       "\n",
       "    .dataframe tbody tr th {\n",
       "        vertical-align: top;\n",
       "    }\n",
       "\n",
       "    .dataframe thead tr th {\n",
       "        text-align: left;\n",
       "    }\n",
       "\n",
       "    .dataframe thead tr:last-of-type th {\n",
       "        text-align: right;\n",
       "    }\n",
       "</style>\n",
       "<table border=\"1\" class=\"dataframe\">\n",
       "  <thead>\n",
       "    <tr>\n",
       "      <th></th>\n",
       "      <th colspan=\"8\" halign=\"left\">Tenure</th>\n",
       "    </tr>\n",
       "    <tr>\n",
       "      <th></th>\n",
       "      <th>count</th>\n",
       "      <th>mean</th>\n",
       "      <th>std</th>\n",
       "      <th>min</th>\n",
       "      <th>25%</th>\n",
       "      <th>50%</th>\n",
       "      <th>75%</th>\n",
       "      <th>max</th>\n",
       "    </tr>\n",
       "    <tr>\n",
       "      <th>Tenure_Cluster</th>\n",
       "      <th></th>\n",
       "      <th></th>\n",
       "      <th></th>\n",
       "      <th></th>\n",
       "      <th></th>\n",
       "      <th></th>\n",
       "      <th></th>\n",
       "      <th></th>\n",
       "    </tr>\n",
       "  </thead>\n",
       "  <tbody>\n",
       "    <tr>\n",
       "      <th>0</th>\n",
       "      <td>1926.0</td>\n",
       "      <td>33.854102</td>\n",
       "      <td>8.208706</td>\n",
       "      <td>21.0</td>\n",
       "      <td>26.0</td>\n",
       "      <td>34.0</td>\n",
       "      <td>41.0</td>\n",
       "      <td>48.0</td>\n",
       "    </tr>\n",
       "    <tr>\n",
       "      <th>1</th>\n",
       "      <td>2878.0</td>\n",
       "      <td>7.512509</td>\n",
       "      <td>5.977337</td>\n",
       "      <td>0.0</td>\n",
       "      <td>2.0</td>\n",
       "      <td>6.0</td>\n",
       "      <td>12.0</td>\n",
       "      <td>20.0</td>\n",
       "    </tr>\n",
       "    <tr>\n",
       "      <th>2</th>\n",
       "      <td>2239.0</td>\n",
       "      <td>63.048682</td>\n",
       "      <td>7.478229</td>\n",
       "      <td>49.0</td>\n",
       "      <td>56.0</td>\n",
       "      <td>64.0</td>\n",
       "      <td>70.0</td>\n",
       "      <td>72.0</td>\n",
       "    </tr>\n",
       "  </tbody>\n",
       "</table>\n",
       "</div>"
      ],
      "text/plain": [
       "                Tenure                                                   \n",
       "                 count       mean       std   min   25%   50%   75%   max\n",
       "Tenure_Cluster                                                           \n",
       "0               1926.0  33.854102  8.208706  21.0  26.0  34.0  41.0  48.0\n",
       "1               2878.0   7.512509  5.977337   0.0   2.0   6.0  12.0  20.0\n",
       "2               2239.0  63.048682  7.478229  49.0  56.0  64.0  70.0  72.0"
      ]
     },
     "execution_count": 36,
     "metadata": {},
     "output_type": "execute_result"
    }
   ],
   "source": [
    "data[['Tenure','Tenure_Cluster']].groupby('Tenure_Cluster').describe()"
   ]
  },
  {
   "cell_type": "code",
   "execution_count": 37,
   "metadata": {},
   "outputs": [],
   "source": [
    "data['Tenure_Cluster'] = data['Tenure_Cluster'].map({0:'Mid',1:'Low',2:'High'})"
   ]
  },
  {
   "cell_type": "code",
   "execution_count": 38,
   "metadata": {},
   "outputs": [
    {
     "data": {
      "image/png": "[encoded data removed]",
      "text/plain": [
       "<Figure size 576x360 with 1 Axes>"
      ]
     },
     "metadata": {},
     "output_type": "display_data"
    }
   ],
   "source": [
    "plot_data = data.groupby('Tenure_Cluster')[['Churn']].mean().reindex(['Low','Mid','High']).reset_index()\n",
    "plt.figure(figsize=(8,5))\n",
    "sns.barplot(data=plot_data, x='Tenure_Cluster', y='Churn', palette='tab10')\n",
    "plt.title('Average Churn Rate per Segment');"
   ]
  },
  {
   "cell_type": "markdown",
   "metadata": {},
   "source": [
    "#### Monthly Charge"
   ]
  },
  {
   "cell_type": "code",
   "execution_count": 39,
   "metadata": {},
   "outputs": [],
   "source": [
    "kmeans = KMeans(n_clusters=3, random_state=0)\n",
    "kmeans.fit(data[['MonthlyCharges']])\n",
    "data['MonthlyCharges_Cluster'] = kmeans.labels_"
   ]
  },
  {
   "cell_type": "code",
   "execution_count": 40,
   "metadata": {},
   "outputs": [
    {
     "data": {
      "text/html": [
       "<div>\n",
       "<style scoped>\n",
       "    .dataframe tbody tr th:only-of-type {\n",
       "        vertical-align: middle;\n",
       "    }\n",
       "\n",
       "    .dataframe tbody tr th {\n",
       "        vertical-align: top;\n",
       "    }\n",
       "\n",
       "    .dataframe thead tr th {\n",
       "        text-align: left;\n",
       "    }\n",
       "\n",
       "    .dataframe thead tr:last-of-type th {\n",
       "        text-align: right;\n",
       "    }\n",
       "</style>\n",
       "<table border=\"1\" class=\"dataframe\">\n",
       "  <thead>\n",
       "    <tr>\n",
       "      <th></th>\n",
       "      <th colspan=\"8\" halign=\"left\">MonthlyCharges</th>\n",
       "    </tr>\n",
       "    <tr>\n",
       "      <th></th>\n",
       "      <th>count</th>\n",
       "      <th>mean</th>\n",
       "      <th>std</th>\n",
       "      <th>min</th>\n",
       "      <th>25%</th>\n",
       "      <th>50%</th>\n",
       "      <th>75%</th>\n",
       "      <th>max</th>\n",
       "    </tr>\n",
       "    <tr>\n",
       "      <th>MonthlyCharges_Cluster</th>\n",
       "      <th></th>\n",
       "      <th></th>\n",
       "      <th></th>\n",
       "      <th></th>\n",
       "      <th></th>\n",
       "      <th></th>\n",
       "      <th></th>\n",
       "      <th></th>\n",
       "    </tr>\n",
       "  </thead>\n",
       "  <tbody>\n",
       "    <tr>\n",
       "      <th>0</th>\n",
       "      <td>2239.0</td>\n",
       "      <td>61.628808</td>\n",
       "      <td>10.441432</td>\n",
       "      <td>42.60</td>\n",
       "      <td>51.80</td>\n",
       "      <td>61.55</td>\n",
       "      <td>70.7000</td>\n",
       "      <td>77.80</td>\n",
       "    </tr>\n",
       "    <tr>\n",
       "      <th>1</th>\n",
       "      <td>2912.0</td>\n",
       "      <td>94.054258</td>\n",
       "      <td>10.343944</td>\n",
       "      <td>77.85</td>\n",
       "      <td>85.05</td>\n",
       "      <td>93.90</td>\n",
       "      <td>101.9125</td>\n",
       "      <td>118.75</td>\n",
       "    </tr>\n",
       "    <tr>\n",
       "      <th>2</th>\n",
       "      <td>1892.0</td>\n",
       "      <td>23.384619</td>\n",
       "      <td>5.660437</td>\n",
       "      <td>18.25</td>\n",
       "      <td>19.80</td>\n",
       "      <td>20.40</td>\n",
       "      <td>25.0500</td>\n",
       "      <td>42.40</td>\n",
       "    </tr>\n",
       "  </tbody>\n",
       "</table>\n",
       "</div>"
      ],
      "text/plain": [
       "                       MonthlyCharges                                      \\\n",
       "                                count       mean        std    min    25%   \n",
       "MonthlyCharges_Cluster                                                      \n",
       "0                              2239.0  61.628808  10.441432  42.60  51.80   \n",
       "1                              2912.0  94.054258  10.343944  77.85  85.05   \n",
       "2                              1892.0  23.384619   5.660437  18.25  19.80   \n",
       "\n",
       "                                                 \n",
       "                          50%       75%     max  \n",
       "MonthlyCharges_Cluster                           \n",
       "0                       61.55   70.7000   77.80  \n",
       "1                       93.90  101.9125  118.75  \n",
       "2                       20.40   25.0500   42.40  "
      ]
     },
     "execution_count": 40,
     "metadata": {},
     "output_type": "execute_result"
    }
   ],
   "source": [
    "data[['MonthlyCharges','MonthlyCharges_Cluster']].groupby('MonthlyCharges_Cluster').describe()"
   ]
  },
  {
   "cell_type": "code",
   "execution_count": 41,
   "metadata": {},
   "outputs": [],
   "source": [
    "data['MonthlyCharges_Cluster'] = data['MonthlyCharges_Cluster'].map({0:'Mid',1:'High',2:'Low'})"
   ]
  },
  {
   "cell_type": "code",
   "execution_count": 42,
   "metadata": {},
   "outputs": [
    {
     "data": {
      "image/png": "[encoded data removed]",
      "text/plain": [
       "<Figure size 576x360 with 1 Axes>"
      ]
     },
     "metadata": {},
     "output_type": "display_data"
    }
   ],
   "source": [
    "plot_data = data.groupby('MonthlyCharges_Cluster')[['Churn']].mean().reindex(['Low','Mid','High']).reset_index()\n",
    "plt.figure(figsize=(8,5))\n",
    "sns.barplot(data=plot_data, x='MonthlyCharges_Cluster', y='Churn', palette='tab10')\n",
    "plt.title('Average Churn Rate per Segment');"
   ]
  },
  {
   "cell_type": "markdown",
   "metadata": {},
   "source": [
    "#### Total Charge"
   ]
  },
  {
   "cell_type": "code",
   "execution_count": 43,
   "metadata": {},
   "outputs": [],
   "source": [
    "kmeans = KMeans(n_clusters=3, random_state=0)\n",
    "kmeans.fit(data[['TotalCharges']])\n",
    "data['TotalCharges_Cluster'] = kmeans.labels_"
   ]
  },
  {
   "cell_type": "code",
   "execution_count": 44,
   "metadata": {},
   "outputs": [
    {
     "data": {
      "text/html": [
       "<div>\n",
       "<style scoped>\n",
       "    .dataframe tbody tr th:only-of-type {\n",
       "        vertical-align: middle;\n",
       "    }\n",
       "\n",
       "    .dataframe tbody tr th {\n",
       "        vertical-align: top;\n",
       "    }\n",
       "\n",
       "    .dataframe thead tr th {\n",
       "        text-align: left;\n",
       "    }\n",
       "\n",
       "    .dataframe thead tr:last-of-type th {\n",
       "        text-align: right;\n",
       "    }\n",
       "</style>\n",
       "<table border=\"1\" class=\"dataframe\">\n",
       "  <thead>\n",
       "    <tr>\n",
       "      <th></th>\n",
       "      <th colspan=\"8\" halign=\"left\">TotalCharges</th>\n",
       "    </tr>\n",
       "    <tr>\n",
       "      <th></th>\n",
       "      <th>count</th>\n",
       "      <th>mean</th>\n",
       "      <th>std</th>\n",
       "      <th>min</th>\n",
       "      <th>25%</th>\n",
       "      <th>50%</th>\n",
       "      <th>75%</th>\n",
       "      <th>max</th>\n",
       "    </tr>\n",
       "    <tr>\n",
       "      <th>TotalCharges_Cluster</th>\n",
       "      <th></th>\n",
       "      <th></th>\n",
       "      <th></th>\n",
       "      <th></th>\n",
       "      <th></th>\n",
       "      <th></th>\n",
       "      <th></th>\n",
       "      <th></th>\n",
       "    </tr>\n",
       "  </thead>\n",
       "  <tbody>\n",
       "    <tr>\n",
       "      <th>0</th>\n",
       "      <td>4152.0</td>\n",
       "      <td>678.541173</td>\n",
       "      <td>567.067179</td>\n",
       "      <td>0.0</td>\n",
       "      <td>158.8125</td>\n",
       "      <td>529.65</td>\n",
       "      <td>1129.8125</td>\n",
       "      <td>1949.40</td>\n",
       "    </tr>\n",
       "    <tr>\n",
       "      <th>1</th>\n",
       "      <td>1280.0</td>\n",
       "      <td>6267.717305</td>\n",
       "      <td>1014.148805</td>\n",
       "      <td>4740.0</td>\n",
       "      <td>5437.5875</td>\n",
       "      <td>6130.25</td>\n",
       "      <td>7030.8125</td>\n",
       "      <td>8684.80</td>\n",
       "    </tr>\n",
       "    <tr>\n",
       "      <th>2</th>\n",
       "      <td>1611.0</td>\n",
       "      <td>3237.856983</td>\n",
       "      <td>808.740993</td>\n",
       "      <td>1951.0</td>\n",
       "      <td>2514.9000</td>\n",
       "      <td>3181.80</td>\n",
       "      <td>3943.4750</td>\n",
       "      <td>4738.85</td>\n",
       "    </tr>\n",
       "  </tbody>\n",
       "</table>\n",
       "</div>"
      ],
      "text/plain": [
       "                     TotalCharges                                    \\\n",
       "                            count         mean          std     min   \n",
       "TotalCharges_Cluster                                                  \n",
       "0                          4152.0   678.541173   567.067179     0.0   \n",
       "1                          1280.0  6267.717305  1014.148805  4740.0   \n",
       "2                          1611.0  3237.856983   808.740993  1951.0   \n",
       "\n",
       "                                                              \n",
       "                            25%      50%        75%      max  \n",
       "TotalCharges_Cluster                                          \n",
       "0                      158.8125   529.65  1129.8125  1949.40  \n",
       "1                     5437.5875  6130.25  7030.8125  8684.80  \n",
       "2                     2514.9000  3181.80  3943.4750  4738.85  "
      ]
     },
     "execution_count": 44,
     "metadata": {},
     "output_type": "execute_result"
    }
   ],
   "source": [
    "data[['TotalCharges','TotalCharges_Cluster']].groupby('TotalCharges_Cluster').describe()"
   ]
  },
  {
   "cell_type": "code",
   "execution_count": 45,
   "metadata": {},
   "outputs": [],
   "source": [
    "data['TotalCharges_Cluster'] = data['TotalCharges_Cluster'].map({0:'Low',1:'High',2:'Mid'})"
   ]
  },
  {
   "cell_type": "code",
   "execution_count": 46,
   "metadata": {},
   "outputs": [
    {
     "data": {
      "image/png": "[encoded data removed]",
      "text/plain": [
       "<Figure size 576x360 with 1 Axes>"
      ]
     },
     "metadata": {},
     "output_type": "display_data"
    }
   ],
   "source": [
    "plot_data = data.groupby('TotalCharges_Cluster')[['Churn']].mean().reindex(['Low','Mid','High']).reset_index()\n",
    "plt.figure(figsize=(8,5))\n",
    "sns.barplot(data=plot_data, x='TotalCharges_Cluster', y='Churn', palette='tab10')\n",
    "plt.title('Average Churn Rate per Segment');"
   ]
  },
  {
   "cell_type": "markdown",
   "metadata": {},
   "source": [
    "# Preprocessing"
   ]
  },
  {
   "cell_type": "markdown",
   "metadata": {},
   "source": [
    "## Dummies"
   ]
  },
  {
   "cell_type": "code",
   "execution_count": 47,
   "metadata": {},
   "outputs": [],
   "source": [
    "# Convert categorical features to numerical by transforming into one-hot columns, drop the first produced column of each (to remove redundant info)\n",
    "# CustomerID isn't included because it doesn't actually provide information for predicting churn and would uselessly produce thousands of columns\n",
    "\n",
    "prep_data = pd.get_dummies(data.drop('CustomerID', axis=1), drop_first=True)"
   ]
  },
  {
   "cell_type": "code",
   "execution_count": 48,
   "metadata": {},
   "outputs": [
    {
     "data": {
      "text/html": [
       "<div>\n",
       "<style scoped>\n",
       "    .dataframe tbody tr th:only-of-type {\n",
       "        vertical-align: middle;\n",
       "    }\n",
       "\n",
       "    .dataframe tbody tr th {\n",
       "        vertical-align: top;\n",
       "    }\n",
       "\n",
       "    .dataframe thead th {\n",
       "        text-align: right;\n",
       "    }\n",
       "</style>\n",
       "<table border=\"1\" class=\"dataframe\">\n",
       "  <thead>\n",
       "    <tr style=\"text-align: right;\">\n",
       "      <th></th>\n",
       "      <th>SeniorCitizen</th>\n",
       "      <th>Tenure</th>\n",
       "      <th>MonthlyCharges</th>\n",
       "      <th>TotalCharges</th>\n",
       "      <th>Churn</th>\n",
       "      <th>Gender_Male</th>\n",
       "      <th>Partner_Yes</th>\n",
       "      <th>Dependents_Yes</th>\n",
       "      <th>PhoneService_Yes</th>\n",
       "      <th>MultipleLines_No phone service</th>\n",
       "      <th>...</th>\n",
       "      <th>PaperlessBilling_Yes</th>\n",
       "      <th>PaymentMethod_Credit card (automatic)</th>\n",
       "      <th>PaymentMethod_Electronic check</th>\n",
       "      <th>PaymentMethod_Mailed check</th>\n",
       "      <th>Tenure_Cluster_Low</th>\n",
       "      <th>Tenure_Cluster_Mid</th>\n",
       "      <th>MonthlyCharges_Cluster_Low</th>\n",
       "      <th>MonthlyCharges_Cluster_Mid</th>\n",
       "      <th>TotalCharges_Cluster_Low</th>\n",
       "      <th>TotalCharges_Cluster_Mid</th>\n",
       "    </tr>\n",
       "  </thead>\n",
       "  <tbody>\n",
       "    <tr>\n",
       "      <th>3696</th>\n",
       "      <td>0</td>\n",
       "      <td>6</td>\n",
       "      <td>49.15</td>\n",
       "      <td>270.8</td>\n",
       "      <td>1</td>\n",
       "      <td>0</td>\n",
       "      <td>1</td>\n",
       "      <td>0</td>\n",
       "      <td>1</td>\n",
       "      <td>0</td>\n",
       "      <td>...</td>\n",
       "      <td>1</td>\n",
       "      <td>0</td>\n",
       "      <td>1</td>\n",
       "      <td>0</td>\n",
       "      <td>1</td>\n",
       "      <td>0</td>\n",
       "      <td>0</td>\n",
       "      <td>1</td>\n",
       "      <td>1</td>\n",
       "      <td>0</td>\n",
       "    </tr>\n",
       "    <tr>\n",
       "      <th>1090</th>\n",
       "      <td>0</td>\n",
       "      <td>51</td>\n",
       "      <td>107.45</td>\n",
       "      <td>5680.9</td>\n",
       "      <td>0</td>\n",
       "      <td>0</td>\n",
       "      <td>0</td>\n",
       "      <td>0</td>\n",
       "      <td>1</td>\n",
       "      <td>0</td>\n",
       "      <td>...</td>\n",
       "      <td>0</td>\n",
       "      <td>0</td>\n",
       "      <td>0</td>\n",
       "      <td>0</td>\n",
       "      <td>0</td>\n",
       "      <td>0</td>\n",
       "      <td>0</td>\n",
       "      <td>0</td>\n",
       "      <td>0</td>\n",
       "      <td>0</td>\n",
       "    </tr>\n",
       "    <tr>\n",
       "      <th>6498</th>\n",
       "      <td>0</td>\n",
       "      <td>1</td>\n",
       "      <td>82.30</td>\n",
       "      <td>82.3</td>\n",
       "      <td>1</td>\n",
       "      <td>0</td>\n",
       "      <td>0</td>\n",
       "      <td>0</td>\n",
       "      <td>1</td>\n",
       "      <td>0</td>\n",
       "      <td>...</td>\n",
       "      <td>1</td>\n",
       "      <td>0</td>\n",
       "      <td>1</td>\n",
       "      <td>0</td>\n",
       "      <td>1</td>\n",
       "      <td>0</td>\n",
       "      <td>0</td>\n",
       "      <td>0</td>\n",
       "      <td>1</td>\n",
       "      <td>0</td>\n",
       "    </tr>\n",
       "  </tbody>\n",
       "</table>\n",
       "<p>3 rows × 37 columns</p>\n",
       "</div>"
      ],
      "text/plain": [
       "      SeniorCitizen  Tenure  MonthlyCharges  TotalCharges  Churn  Gender_Male  \\\n",
       "3696              0       6           49.15         270.8      1            0   \n",
       "1090              0      51          107.45        5680.9      0            0   \n",
       "6498              0       1           82.30          82.3      1            0   \n",
       "\n",
       "      Partner_Yes  Dependents_Yes  PhoneService_Yes  \\\n",
       "3696            1               0                 1   \n",
       "1090            0               0                 1   \n",
       "6498            0               0                 1   \n",
       "\n",
       "      MultipleLines_No phone service  ...  PaperlessBilling_Yes  \\\n",
       "3696                               0  ...                     1   \n",
       "1090                               0  ...                     0   \n",
       "6498                               0  ...                     1   \n",
       "\n",
       "      PaymentMethod_Credit card (automatic)  PaymentMethod_Electronic check  \\\n",
       "3696                                      0                               1   \n",
       "1090                                      0                               0   \n",
       "6498                                      0                               1   \n",
       "\n",
       "      PaymentMethod_Mailed check  Tenure_Cluster_Low  Tenure_Cluster_Mid  \\\n",
       "3696                           0                   1                   0   \n",
       "1090                           0                   0                   0   \n",
       "6498                           0                   1                   0   \n",
       "\n",
       "      MonthlyCharges_Cluster_Low  MonthlyCharges_Cluster_Mid  \\\n",
       "3696                           0                           1   \n",
       "1090                           0                           0   \n",
       "6498                           0                           0   \n",
       "\n",
       "      TotalCharges_Cluster_Low  TotalCharges_Cluster_Mid  \n",
       "3696                         1                         0  \n",
       "1090                         0                         0  \n",
       "6498                         1                         0  \n",
       "\n",
       "[3 rows x 37 columns]"
      ]
     },
     "execution_count": 48,
     "metadata": {},
     "output_type": "execute_result"
    }
   ],
   "source": [
    "prep_data.sample(3)"
   ]
  },
  {
   "cell_type": "markdown",
   "metadata": {},
   "source": [
    "## Scaling"
   ]
  },
  {
   "cell_type": "code",
   "execution_count": 49,
   "metadata": {},
   "outputs": [],
   "source": [
    "from sklearn.preprocessing import StandardScaler"
   ]
  },
  {
   "cell_type": "code",
   "execution_count": 50,
   "metadata": {},
   "outputs": [],
   "source": [
    "# Save a list of feature names to scale\n",
    "scale_col_names = ['MonthlyCharges','TotalCharges']"
   ]
  },
  {
   "cell_type": "code",
   "execution_count": 51,
   "metadata": {},
   "outputs": [],
   "source": [
    "# Create a scaler object\n",
    "scaler = StandardScaler()"
   ]
  },
  {
   "cell_type": "code",
   "execution_count": 53,
   "metadata": {},
   "outputs": [],
   "source": [
    "# Perform the scaling of the features\n",
    "scaled_cols = scaler.fit_transform(prep_data[scale_col_names])"
   ]
  },
  {
   "cell_type": "markdown",
   "metadata": {},
   "source": [
    "*Here I swap the unscaled data of Monthly Charges and Total Charges columns with the scaled ones*"
   ]
  },
  {
   "cell_type": "code",
   "execution_count": 54,
   "metadata": {},
   "outputs": [
    {
     "data": {
      "text/html": [
       "<div>\n",
       "<style scoped>\n",
       "    .dataframe tbody tr th:only-of-type {\n",
       "        vertical-align: middle;\n",
       "    }\n",
       "\n",
       "    .dataframe tbody tr th {\n",
       "        vertical-align: top;\n",
       "    }\n",
       "\n",
       "    .dataframe thead th {\n",
       "        text-align: right;\n",
       "    }\n",
       "</style>\n",
       "<table border=\"1\" class=\"dataframe\">\n",
       "  <thead>\n",
       "    <tr style=\"text-align: right;\">\n",
       "      <th></th>\n",
       "      <th>MonthlyCharges</th>\n",
       "      <th>TotalCharges</th>\n",
       "    </tr>\n",
       "  </thead>\n",
       "  <tbody>\n",
       "    <tr>\n",
       "      <th>0</th>\n",
       "      <td>29.85</td>\n",
       "      <td>29.85</td>\n",
       "    </tr>\n",
       "    <tr>\n",
       "      <th>1</th>\n",
       "      <td>56.95</td>\n",
       "      <td>1889.50</td>\n",
       "    </tr>\n",
       "    <tr>\n",
       "      <th>2</th>\n",
       "      <td>53.85</td>\n",
       "      <td>108.15</td>\n",
       "    </tr>\n",
       "  </tbody>\n",
       "</table>\n",
       "</div>"
      ],
      "text/plain": [
       "   MonthlyCharges  TotalCharges\n",
       "0           29.85         29.85\n",
       "1           56.95       1889.50\n",
       "2           53.85        108.15"
      ]
     },
     "execution_count": 54,
     "metadata": {},
     "output_type": "execute_result"
    }
   ],
   "source": [
    "# Before swapping\n",
    "prep_data[scale_col_names].head(3)"
   ]
  },
  {
   "cell_type": "code",
   "execution_count": 55,
   "metadata": {},
   "outputs": [],
   "source": [
    "# The swap\n",
    "prep_data[scale_col_names] = scaled_cols"
   ]
  },
  {
   "cell_type": "code",
   "execution_count": 56,
   "metadata": {},
   "outputs": [
    {
     "data": {
      "text/html": [
       "<div>\n",
       "<style scoped>\n",
       "    .dataframe tbody tr th:only-of-type {\n",
       "        vertical-align: middle;\n",
       "    }\n",
       "\n",
       "    .dataframe tbody tr th {\n",
       "        vertical-align: top;\n",
       "    }\n",
       "\n",
       "    .dataframe thead th {\n",
       "        text-align: right;\n",
       "    }\n",
       "</style>\n",
       "<table border=\"1\" class=\"dataframe\">\n",
       "  <thead>\n",
       "    <tr style=\"text-align: right;\">\n",
       "      <th></th>\n",
       "      <th>MonthlyCharges</th>\n",
       "      <th>TotalCharges</th>\n",
       "    </tr>\n",
       "  </thead>\n",
       "  <tbody>\n",
       "    <tr>\n",
       "      <th>0</th>\n",
       "      <td>-1.160323</td>\n",
       "      <td>-0.992611</td>\n",
       "    </tr>\n",
       "    <tr>\n",
       "      <th>1</th>\n",
       "      <td>-0.259629</td>\n",
       "      <td>-0.172165</td>\n",
       "    </tr>\n",
       "    <tr>\n",
       "      <th>2</th>\n",
       "      <td>-0.362660</td>\n",
       "      <td>-0.958066</td>\n",
       "    </tr>\n",
       "  </tbody>\n",
       "</table>\n",
       "</div>"
      ],
      "text/plain": [
       "   MonthlyCharges  TotalCharges\n",
       "0       -1.160323     -0.992611\n",
       "1       -0.259629     -0.172165\n",
       "2       -0.362660     -0.958066"
      ]
     },
     "execution_count": 56,
     "metadata": {},
     "output_type": "execute_result"
    }
   ],
   "source": [
    "# After swapping\n",
    "prep_data[scale_col_names].head(3)"
   ]
  },
  {
   "cell_type": "markdown",
   "metadata": {},
   "source": [
    "## Split Data"
   ]
  },
  {
   "cell_type": "code",
   "execution_count": 57,
   "metadata": {},
   "outputs": [],
   "source": [
    "from sklearn.model_selection import train_test_split"
   ]
  },
  {
   "cell_type": "code",
   "execution_count": 58,
   "metadata": {},
   "outputs": [],
   "source": [
    "# Separate the target variable (Churn, y) from the predictor variables (X)\n",
    "X = prep_data.drop('Churn', axis=1)\n",
    "y = prep_data['Churn']\n",
    "\n",
    "# Randomly separate the data into training and testing sets\n",
    "# Defined randomness for reproducibility\n",
    "X_train, X_test, y_train, y_test = train_test_split(X, y, test_size=0.25, random_state=0)"
   ]
  },
  {
   "cell_type": "markdown",
   "metadata": {},
   "source": [
    "*Let's view them and see if the splitting happened correctly*"
   ]
  },
  {
   "cell_type": "code",
   "execution_count": 59,
   "metadata": {},
   "outputs": [
    {
     "data": {
      "text/html": [
       "<div>\n",
       "<style scoped>\n",
       "    .dataframe tbody tr th:only-of-type {\n",
       "        vertical-align: middle;\n",
       "    }\n",
       "\n",
       "    .dataframe tbody tr th {\n",
       "        vertical-align: top;\n",
       "    }\n",
       "\n",
       "    .dataframe thead th {\n",
       "        text-align: right;\n",
       "    }\n",
       "</style>\n",
       "<table border=\"1\" class=\"dataframe\">\n",
       "  <thead>\n",
       "    <tr style=\"text-align: right;\">\n",
       "      <th></th>\n",
       "      <th>SeniorCitizen</th>\n",
       "      <th>Tenure</th>\n",
       "      <th>MonthlyCharges</th>\n",
       "      <th>TotalCharges</th>\n",
       "      <th>Gender_Male</th>\n",
       "      <th>Partner_Yes</th>\n",
       "      <th>Dependents_Yes</th>\n",
       "      <th>PhoneService_Yes</th>\n",
       "      <th>MultipleLines_No phone service</th>\n",
       "      <th>MultipleLines_Yes</th>\n",
       "      <th>...</th>\n",
       "      <th>PaperlessBilling_Yes</th>\n",
       "      <th>PaymentMethod_Credit card (automatic)</th>\n",
       "      <th>PaymentMethod_Electronic check</th>\n",
       "      <th>PaymentMethod_Mailed check</th>\n",
       "      <th>Tenure_Cluster_Low</th>\n",
       "      <th>Tenure_Cluster_Mid</th>\n",
       "      <th>MonthlyCharges_Cluster_Low</th>\n",
       "      <th>MonthlyCharges_Cluster_Mid</th>\n",
       "      <th>TotalCharges_Cluster_Low</th>\n",
       "      <th>TotalCharges_Cluster_Mid</th>\n",
       "    </tr>\n",
       "  </thead>\n",
       "  <tbody>\n",
       "    <tr>\n",
       "      <th>1761</th>\n",
       "      <td>0</td>\n",
       "      <td>58</td>\n",
       "      <td>-1.339797</td>\n",
       "      <td>-0.338005</td>\n",
       "      <td>1</td>\n",
       "      <td>0</td>\n",
       "      <td>0</td>\n",
       "      <td>1</td>\n",
       "      <td>0</td>\n",
       "      <td>1</td>\n",
       "      <td>...</td>\n",
       "      <td>1</td>\n",
       "      <td>1</td>\n",
       "      <td>0</td>\n",
       "      <td>0</td>\n",
       "      <td>0</td>\n",
       "      <td>0</td>\n",
       "      <td>1</td>\n",
       "      <td>0</td>\n",
       "      <td>1</td>\n",
       "      <td>0</td>\n",
       "    </tr>\n",
       "    <tr>\n",
       "      <th>6598</th>\n",
       "      <td>0</td>\n",
       "      <td>57</td>\n",
       "      <td>0.317015</td>\n",
       "      <td>0.832343</td>\n",
       "      <td>0</td>\n",
       "      <td>0</td>\n",
       "      <td>0</td>\n",
       "      <td>1</td>\n",
       "      <td>0</td>\n",
       "      <td>0</td>\n",
       "      <td>...</td>\n",
       "      <td>1</td>\n",
       "      <td>1</td>\n",
       "      <td>0</td>\n",
       "      <td>0</td>\n",
       "      <td>0</td>\n",
       "      <td>0</td>\n",
       "      <td>0</td>\n",
       "      <td>1</td>\n",
       "      <td>0</td>\n",
       "      <td>1</td>\n",
       "    </tr>\n",
       "    <tr>\n",
       "      <th>3861</th>\n",
       "      <td>0</td>\n",
       "      <td>26</td>\n",
       "      <td>1.352314</td>\n",
       "      <td>0.192164</td>\n",
       "      <td>0</td>\n",
       "      <td>0</td>\n",
       "      <td>1</td>\n",
       "      <td>1</td>\n",
       "      <td>0</td>\n",
       "      <td>0</td>\n",
       "      <td>...</td>\n",
       "      <td>1</td>\n",
       "      <td>0</td>\n",
       "      <td>1</td>\n",
       "      <td>0</td>\n",
       "      <td>0</td>\n",
       "      <td>1</td>\n",
       "      <td>0</td>\n",
       "      <td>0</td>\n",
       "      <td>0</td>\n",
       "      <td>1</td>\n",
       "    </tr>\n",
       "  </tbody>\n",
       "</table>\n",
       "<p>3 rows × 36 columns</p>\n",
       "</div>"
      ],
      "text/plain": [
       "      SeniorCitizen  Tenure  MonthlyCharges  TotalCharges  Gender_Male  \\\n",
       "1761              0      58       -1.339797     -0.338005            1   \n",
       "6598              0      57        0.317015      0.832343            0   \n",
       "3861              0      26        1.352314      0.192164            0   \n",
       "\n",
       "      Partner_Yes  Dependents_Yes  PhoneService_Yes  \\\n",
       "1761            0               0                 1   \n",
       "6598            0               0                 1   \n",
       "3861            0               1                 1   \n",
       "\n",
       "      MultipleLines_No phone service  MultipleLines_Yes  ...  \\\n",
       "1761                               0                  1  ...   \n",
       "6598                               0                  0  ...   \n",
       "3861                               0                  0  ...   \n",
       "\n",
       "      PaperlessBilling_Yes  PaymentMethod_Credit card (automatic)  \\\n",
       "1761                     1                                      1   \n",
       "6598                     1                                      1   \n",
       "3861                     1                                      0   \n",
       "\n",
       "      PaymentMethod_Electronic check  PaymentMethod_Mailed check  \\\n",
       "1761                               0                           0   \n",
       "6598                               0                           0   \n",
       "3861                               1                           0   \n",
       "\n",
       "      Tenure_Cluster_Low  Tenure_Cluster_Mid  MonthlyCharges_Cluster_Low  \\\n",
       "1761                   0                   0                           1   \n",
       "6598                   0                   0                           0   \n",
       "3861                   0                   1                           0   \n",
       "\n",
       "      MonthlyCharges_Cluster_Mid  TotalCharges_Cluster_Low  \\\n",
       "1761                           0                         1   \n",
       "6598                           1                         0   \n",
       "3861                           0                         0   \n",
       "\n",
       "      TotalCharges_Cluster_Mid  \n",
       "1761                         0  \n",
       "6598                         1  \n",
       "3861                         1  \n",
       "\n",
       "[3 rows x 36 columns]"
      ]
     },
     "execution_count": 59,
     "metadata": {},
     "output_type": "execute_result"
    }
   ],
   "source": [
    "X_train.sample(3)"
   ]
  },
  {
   "cell_type": "code",
   "execution_count": 60,
   "metadata": {},
   "outputs": [
    {
     "data": {
      "text/plain": [
       "4536    1\n",
       "2819    0\n",
       "5721    0\n",
       "Name: Churn, dtype: int64"
      ]
     },
     "execution_count": 60,
     "metadata": {},
     "output_type": "execute_result"
    }
   ],
   "source": [
    "y_test.sample(3)"
   ]
  },
  {
   "cell_type": "markdown",
   "metadata": {},
   "source": [
    "*Everything looks good!*"
   ]
  },
  {
   "cell_type": "markdown",
   "metadata": {},
   "source": [
    "# Baseline Model"
   ]
  },
  {
   "cell_type": "markdown",
   "metadata": {},
   "source": [
    "We're predicting a binary variable, therefore, this is a classification problem.\n",
    "\n",
    "To illustrate, customers either land in class 0 or class 1, as in 0 \"did not churn\" or 1 \"did churn\".\n",
    "\n",
    "With this, the relevant classification algorithms within sk-learn are...\n",
    "\n",
    "    Non-Ensemble Algorithms:\n",
    "    - Logistic Regression\n",
    "    - SVC\n",
    "    - SGDClassifier\n",
    "    - KNeighborsClassifier\n",
    "    - GaussianProcessClassifier\n",
    "    - DecisionTreeClasifier\n",
    "\n",
    "    Ensemble Algorithms:\n",
    "    - AdaBoostClassifier\n",
    "    - GradientBoostingClassifier\n",
    "    - RandomForestClassifier"
   ]
  },
  {
   "cell_type": "markdown",
   "metadata": {},
   "source": [
    "## Model Exploration"
   ]
  },
  {
   "cell_type": "markdown",
   "metadata": {},
   "source": [
    "*First, define a function to run a model and gauge its performance both by accuracy and cost (as in runtime)*"
   ]
  },
  {
   "cell_type": "code",
   "execution_count": 152,
   "metadata": {},
   "outputs": [],
   "source": [
    "# Create a dictionary to save model names, their performance, and the time it took to train it\n",
    "model_performance = {} "
   ]
  },
  {
   "cell_type": "code",
   "execution_count": 124,
   "metadata": {},
   "outputs": [],
   "source": [
    "def runModel_savePerformance(model_name, model):\n",
    "    \"\"\"Fit the model to training data, score each fold with a given metric, then add elapsed-time and\n",
    "    the performance scores to the given dictionary.\"\"\"\n",
    "    \n",
    "    import time\n",
    "    from sklearn.metrics import accuracy_score, confusion_matrix\n",
    "    \n",
    "    start = time.time()\n",
    "    \n",
    "    model.fit(X_train, y_train)\n",
    "    y_pred = model.predict(X_test)\n",
    "    \n",
    "    end = time.time()\n",
    "    \n",
    "    model_performance[model_name] = {'y_pred':y_pred, 'Accuracy':round(accuracy_score(y_test, y_pred),4), 'Confusion Matrix':confusion_matrix(y_test, y_pred), 'Runtime':round(end - start, 2)}"
   ]
  },
  {
   "cell_type": "code",
   "execution_count": 62,
   "metadata": {},
   "outputs": [],
   "source": [
    "# Non-Ensemble Algorithms\n",
    "from sklearn.linear_model import LogisticRegression, SGDClassifier\n",
    "from sklearn.svm import SVC\n",
    "from sklearn.neighbors import KNeighborsClassifier\n",
    "from sklearn.gaussian_process import GaussianProcessClassifier\n",
    "from sklearn.tree import DecisionTreeClassifier\n",
    "\n",
    "# Ensemble Algorithms\n",
    "from sklearn.ensemble import AdaBoostClassifier, GradientBoostingClassifier, RandomForestClassifier"
   ]
  },
  {
   "cell_type": "markdown",
   "metadata": {},
   "source": [
    "**LogisticRegression**"
   ]
  },
  {
   "cell_type": "code",
   "execution_count": 153,
   "metadata": {},
   "outputs": [
    {
     "name": "stderr",
     "output_type": "stream",
     "text": [
      "C:\\Users\\Noah\\anaconda3\\lib\\site-packages\\sklearn\\linear_model\\_logistic.py:763: ConvergenceWarning: lbfgs failed to converge (status=1):\n",
      "STOP: TOTAL NO. of ITERATIONS REACHED LIMIT.\n",
      "\n",
      "Increase the number of iterations (max_iter) or scale the data as shown in:\n",
      "    https://scikit-learn.org/stable/modules/preprocessing.html\n",
      "Please also refer to the documentation for alternative solver options:\n",
      "    https://scikit-learn.org/stable/modules/linear_model.html#logistic-regression\n",
      "  n_iter_i = _check_optimize_result(\n"
     ]
    }
   ],
   "source": [
    "model = LogisticRegression()\n",
    "\n",
    "runModel_savePerformance('LogisticRegression', model)"
   ]
  },
  {
   "cell_type": "markdown",
   "metadata": {},
   "source": [
    "**SGDClassifier**"
   ]
  },
  {
   "cell_type": "code",
   "execution_count": 154,
   "metadata": {},
   "outputs": [],
   "source": [
    "model = SGDClassifier()\n",
    "\n",
    "runModel_savePerformance('SGDClassifier', model)"
   ]
  },
  {
   "cell_type": "markdown",
   "metadata": {},
   "source": [
    "**SVC**"
   ]
  },
  {
   "cell_type": "code",
   "execution_count": 155,
   "metadata": {},
   "outputs": [],
   "source": [
    "model = SVC()\n",
    "\n",
    "runModel_savePerformance('SVC', model)"
   ]
  },
  {
   "cell_type": "markdown",
   "metadata": {},
   "source": [
    "**KNeighborsClassifier**"
   ]
  },
  {
   "cell_type": "code",
   "execution_count": 156,
   "metadata": {},
   "outputs": [],
   "source": [
    "model = KNeighborsClassifier()\n",
    "\n",
    "runModel_savePerformance('KNeighborsClassifier', model)"
   ]
  },
  {
   "cell_type": "markdown",
   "metadata": {},
   "source": [
    "**GaussianProcessClassifier**"
   ]
  },
  {
   "cell_type": "code",
   "execution_count": 157,
   "metadata": {},
   "outputs": [],
   "source": [
    "model = GaussianProcessClassifier()\n",
    "\n",
    "runModel_savePerformance('GaussianProcessClassifier', model)"
   ]
  },
  {
   "cell_type": "markdown",
   "metadata": {},
   "source": [
    "**DecisionTreeClassifier**"
   ]
  },
  {
   "cell_type": "code",
   "execution_count": 158,
   "metadata": {},
   "outputs": [],
   "source": [
    "model = DecisionTreeClassifier()\n",
    "\n",
    "runModel_savePerformance('DecisionTreeClassifier', model)"
   ]
  },
  {
   "cell_type": "markdown",
   "metadata": {},
   "source": [
    "**AdaBoostClassifier**"
   ]
  },
  {
   "cell_type": "code",
   "execution_count": 159,
   "metadata": {},
   "outputs": [],
   "source": [
    "model = AdaBoostClassifier()\n",
    "\n",
    "runModel_savePerformance('AdaBoostClassifier', model)"
   ]
  },
  {
   "cell_type": "markdown",
   "metadata": {},
   "source": [
    "**GradientBoostingClassifier**"
   ]
  },
  {
   "cell_type": "code",
   "execution_count": 160,
   "metadata": {},
   "outputs": [],
   "source": [
    "model = GradientBoostingClassifier()\n",
    "\n",
    "runModel_savePerformance('GradientBoostingClassifier', model)"
   ]
  },
  {
   "cell_type": "markdown",
   "metadata": {},
   "source": [
    "**RandomForestClassifier**"
   ]
  },
  {
   "cell_type": "code",
   "execution_count": 161,
   "metadata": {},
   "outputs": [],
   "source": [
    "model = RandomForestClassifier()\n",
    "\n",
    "runModel_savePerformance('RandomForestClassifier', model)"
   ]
  },
  {
   "cell_type": "markdown",
   "metadata": {},
   "source": [
    "## Model Performances"
   ]
  },
  {
   "cell_type": "code",
   "execution_count": 163,
   "metadata": {},
   "outputs": [],
   "source": [
    "# Convert the saved model performances from a dictionary to a DataFrame with the model names as indexes\n",
    "model_performance = pd.DataFrame(model_performance).T"
   ]
  },
  {
   "cell_type": "code",
   "execution_count": 164,
   "metadata": {},
   "outputs": [],
   "source": [
    "# Rename Runtime to include its measurement\n",
    "model_performance = model_performance.rename(columns={'Runtime':'Runtime (s)'})"
   ]
  },
  {
   "cell_type": "code",
   "execution_count": 168,
   "metadata": {},
   "outputs": [],
   "source": [
    "# Rearrange the columns\n",
    "model_performance = model_performance[['Accuracy','Runtime (s)','Confusion Matrix','y_pred']]"
   ]
  },
  {
   "cell_type": "code",
   "execution_count": 171,
   "metadata": {},
   "outputs": [],
   "source": [
    "# Sort the values by Accuracy DESC then Runtime ASC\n",
    "model_performance = model_performance.sort_values(by=['Accuracy','Runtime (s)'], ascending=[False, True])"
   ]
  },
  {
   "cell_type": "code",
   "execution_count": 172,
   "metadata": {},
   "outputs": [
    {
     "data": {
      "text/html": [
       "<div>\n",
       "<style scoped>\n",
       "    .dataframe tbody tr th:only-of-type {\n",
       "        vertical-align: middle;\n",
       "    }\n",
       "\n",
       "    .dataframe tbody tr th {\n",
       "        vertical-align: top;\n",
       "    }\n",
       "\n",
       "    .dataframe thead th {\n",
       "        text-align: right;\n",
       "    }\n",
       "</style>\n",
       "<table border=\"1\" class=\"dataframe\">\n",
       "  <thead>\n",
       "    <tr style=\"text-align: right;\">\n",
       "      <th></th>\n",
       "      <th>Accuracy</th>\n",
       "      <th>Runtime (s)</th>\n",
       "      <th>Confusion Matrix</th>\n",
       "      <th>y_pred</th>\n",
       "    </tr>\n",
       "  </thead>\n",
       "  <tbody>\n",
       "    <tr>\n",
       "      <th>AdaBoostClassifier</th>\n",
       "      <td>0.800114</td>\n",
       "      <td>0</td>\n",
       "      <td>[[1162, 136], [216, 247]]</td>\n",
       "      <td>[0, 0, 0, 0, 0, 1, 0, 1, 0, 0, 0, 0, 0, 1, 0, ...</td>\n",
       "    </tr>\n",
       "    <tr>\n",
       "      <th>LogisticRegression</th>\n",
       "      <td>0.797274</td>\n",
       "      <td>0</td>\n",
       "      <td>[[1163, 135], [222, 241]]</td>\n",
       "      <td>[0, 0, 0, 0, 0, 1, 0, 1, 0, 0, 0, 0, 0, 1, 0, ...</td>\n",
       "    </tr>\n",
       "    <tr>\n",
       "      <th>GradientBoostingClassifier</th>\n",
       "      <td>0.789892</td>\n",
       "      <td>1</td>\n",
       "      <td>[[1163, 135], [235, 228]]</td>\n",
       "      <td>[0, 0, 0, 0, 0, 1, 0, 1, 0, 0, 0, 0, 0, 1, 0, ...</td>\n",
       "    </tr>\n",
       "    <tr>\n",
       "      <th>RandomForestClassifier</th>\n",
       "      <td>0.785917</td>\n",
       "      <td>1</td>\n",
       "      <td>[[1157, 141], [236, 227]]</td>\n",
       "      <td>[0, 0, 0, 0, 0, 1, 0, 1, 0, 0, 0, 0, 0, 1, 0, ...</td>\n",
       "    </tr>\n",
       "    <tr>\n",
       "      <th>GaussianProcessClassifier</th>\n",
       "      <td>0.784214</td>\n",
       "      <td>51</td>\n",
       "      <td>[[1153, 145], [235, 228]]</td>\n",
       "      <td>[0, 0, 0, 0, 0, 1, 0, 1, 0, 0, 0, 0, 0, 1, 0, ...</td>\n",
       "    </tr>\n",
       "    <tr>\n",
       "      <th>SVC</th>\n",
       "      <td>0.783646</td>\n",
       "      <td>2</td>\n",
       "      <td>[[1184, 114], [267, 196]]</td>\n",
       "      <td>[0, 0, 0, 0, 0, 1, 0, 1, 0, 0, 0, 0, 0, 1, 0, ...</td>\n",
       "    </tr>\n",
       "    <tr>\n",
       "      <th>SGDClassifier</th>\n",
       "      <td>0.780239</td>\n",
       "      <td>0</td>\n",
       "      <td>[[1236, 62], [325, 138]]</td>\n",
       "      <td>[0, 0, 0, 0, 0, 1, 0, 1, 0, 0, 0, 0, 0, 1, 0, ...</td>\n",
       "    </tr>\n",
       "    <tr>\n",
       "      <th>KNeighborsClassifier</th>\n",
       "      <td>0.755821</td>\n",
       "      <td>0</td>\n",
       "      <td>[[1090, 208], [222, 241]]</td>\n",
       "      <td>[0, 0, 0, 0, 0, 1, 0, 1, 0, 1, 1, 0, 0, 1, 0, ...</td>\n",
       "    </tr>\n",
       "    <tr>\n",
       "      <th>DecisionTreeClassifier</th>\n",
       "      <td>0.736513</td>\n",
       "      <td>0</td>\n",
       "      <td>[[1062, 236], [228, 235]]</td>\n",
       "      <td>[0, 0, 0, 0, 0, 1, 0, 1, 0, 0, 1, 1, 0, 0, 1, ...</td>\n",
       "    </tr>\n",
       "  </tbody>\n",
       "</table>\n",
       "</div>"
      ],
      "text/plain": [
       "                            Accuracy Runtime (s)           Confusion Matrix  \\\n",
       "AdaBoostClassifier          0.800114           0  [[1162, 136], [216, 247]]   \n",
       "LogisticRegression          0.797274           0  [[1163, 135], [222, 241]]   \n",
       "GradientBoostingClassifier  0.789892           1  [[1163, 135], [235, 228]]   \n",
       "RandomForestClassifier      0.785917           1  [[1157, 141], [236, 227]]   \n",
       "GaussianProcessClassifier   0.784214          51  [[1153, 145], [235, 228]]   \n",
       "SVC                         0.783646           2  [[1184, 114], [267, 196]]   \n",
       "SGDClassifier               0.780239           0   [[1236, 62], [325, 138]]   \n",
       "KNeighborsClassifier        0.755821           0  [[1090, 208], [222, 241]]   \n",
       "DecisionTreeClassifier      0.736513           0  [[1062, 236], [228, 235]]   \n",
       "\n",
       "                                                                       y_pred  \n",
       "AdaBoostClassifier          [0, 0, 0, 0, 0, 1, 0, 1, 0, 0, 0, 0, 0, 1, 0, ...  \n",
       "LogisticRegression          [0, 0, 0, 0, 0, 1, 0, 1, 0, 0, 0, 0, 0, 1, 0, ...  \n",
       "GradientBoostingClassifier  [0, 0, 0, 0, 0, 1, 0, 1, 0, 0, 0, 0, 0, 1, 0, ...  \n",
       "RandomForestClassifier      [0, 0, 0, 0, 0, 1, 0, 1, 0, 0, 0, 0, 0, 1, 0, ...  \n",
       "GaussianProcessClassifier   [0, 0, 0, 0, 0, 1, 0, 1, 0, 0, 0, 0, 0, 1, 0, ...  \n",
       "SVC                         [0, 0, 0, 0, 0, 1, 0, 1, 0, 0, 0, 0, 0, 1, 0, ...  \n",
       "SGDClassifier               [0, 0, 0, 0, 0, 1, 0, 1, 0, 0, 0, 0, 0, 1, 0, ...  \n",
       "KNeighborsClassifier        [0, 0, 0, 0, 0, 1, 0, 1, 0, 1, 1, 0, 0, 1, 0, ...  \n",
       "DecisionTreeClassifier      [0, 0, 0, 0, 0, 1, 0, 1, 0, 0, 1, 1, 0, 0, 1, ...  "
      ]
     },
     "execution_count": 172,
     "metadata": {},
     "output_type": "execute_result"
    }
   ],
   "source": [
    "# Show the model performances DataFrame\n",
    "model_performance"
   ]
  },
  {
   "cell_type": "markdown",
   "metadata": {},
   "source": [
    "## Model Choice"
   ]
  },
  {
   "cell_type": "markdown",
   "metadata": {},
   "source": [
    "## Performance Metric"
   ]
  },
  {
   "cell_type": "code",
   "execution_count": null,
   "metadata": {},
   "outputs": [],
   "source": []
  }
 ],
 "metadata": {
  "kernelspec": {
   "display_name": "Python 3 (ipykernel)",
   "language": "python",
   "name": "python3"
  },
  "language_info": {
   "codemirror_mode": {
    "name": "ipython",
    "version": 3
   },
   "file_extension": ".py",
   "mimetype": "text/x-python",
   "name": "python",
   "nbconvert_exporter": "python",
   "pygments_lexer": "ipython3",
   "version": "3.8.11"
  },
  "toc": {
   "base_numbering": 1,
   "nav_menu": {},
   "number_sections": true,
   "sideBar": true,
   "skip_h1_title": false,
   "title_cell": "Table of Contents",
   "title_sidebar": "Contents",
   "toc_cell": true,
   "toc_position": {},
   "toc_section_display": true,
   "toc_window_display": true
  },
  "toc-autonumbering": true,
  "toc-showcode": false,
  "toc-showmarkdowntxt": false
 },
 "nbformat": 4,
 "nbformat_minor": 4
}
